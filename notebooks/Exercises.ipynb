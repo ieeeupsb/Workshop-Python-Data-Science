{
 "cells": [
  {
   "cell_type": "markdown",
   "id": "variable-advertising",
   "metadata": {},
   "source": [
    "# Solutions (Exercises)\n",
    "\n",
    "## Numpy "
   ]
  },
  {
   "cell_type": "code",
   "execution_count": 1,
   "id": "still-refund",
   "metadata": {},
   "outputs": [],
   "source": [
    "import numpy as np"
   ]
  },
  {
   "cell_type": "markdown",
   "id": "convinced-prefix",
   "metadata": {},
   "source": [
    "1. Create a vector of length 10 with values evenly distributed between 5 and 50.\n",
    "\n",
    "\n",
    "\n",
    "\n",
    "\n",
    "\n"
   ]
  },
  {
   "cell_type": "code",
   "execution_count": 2,
   "id": "occupational-gauge",
   "metadata": {},
   "outputs": [
    {
     "data": {
      "text/plain": [
       "array([ 5., 10., 15., 20., 25., 30., 35., 40., 45., 50.])"
      ]
     },
     "execution_count": 2,
     "metadata": {},
     "output_type": "execute_result"
    }
   ],
   "source": [
    "np.linspace(5, 50, 10)"
   ]
  },
  {
   "cell_type": "markdown",
   "id": "visible-regression",
   "metadata": {},
   "source": [
    "2. Create an array of shape (3, 2) filled with the number 5."
   ]
  },
  {
   "cell_type": "code",
   "execution_count": 3,
   "id": "rural-slovak",
   "metadata": {},
   "outputs": [
    {
     "data": {
      "text/plain": [
       "array([[5, 5],\n",
       "       [5, 5],\n",
       "       [5, 5]])"
      ]
     },
     "execution_count": 3,
     "metadata": {},
     "output_type": "execute_result"
    }
   ],
   "source": [
    "np.full((3, 2), 5)"
   ]
  },
  {
   "cell_type": "markdown",
   "id": "functional-conditions",
   "metadata": {},
   "source": [
    "3. Convert the values of Fahrenheit degrees stored in `[0, 12, 45, 34, 99]` into Centigrade degrees."
   ]
  },
  {
   "cell_type": "code",
   "execution_count": 4,
   "id": "incorporate-shelf",
   "metadata": {},
   "outputs": [
    {
     "data": {
      "text/plain": [
       "array([-17.77777778, -11.11111111,   7.22222222,   1.11111111,\n",
       "        37.22222222])"
      ]
     },
     "execution_count": 4,
     "metadata": {},
     "output_type": "execute_result"
    }
   ],
   "source": [
    "(np.array([0, 12, 45, 34, 99]) - 32) / 1.8"
   ]
  },
  {
   "cell_type": "markdown",
   "id": "naughty-eating",
   "metadata": {},
   "source": [
    "4. Get the indices of the elements that are bigger than 10 in `[[0, 10, 20], [20, 30, 40]]`."
   ]
  },
  {
   "cell_type": "code",
   "execution_count": 5,
   "id": "precise-patio",
   "metadata": {},
   "outputs": [
    {
     "data": {
      "text/plain": [
       "array([[0, 2],\n",
       "       [1, 0],\n",
       "       [1, 1],\n",
       "       [1, 2]], dtype=int32)"
      ]
     },
     "execution_count": 5,
     "metadata": {},
     "output_type": "execute_result"
    }
   ],
   "source": [
    "np.argwhere(np.array([[0, 10, 20], [20, 30, 40]]) > 10)"
   ]
  },
  {
   "cell_type": "markdown",
   "id": "electric-founder",
   "metadata": {},
   "source": [
    "5. Change the shape of `[1, 2, 3, 4, 5, 6]` to (3, 2) and select its first two rows."
   ]
  },
  {
   "cell_type": "code",
   "execution_count": 6,
   "id": "exact-rider",
   "metadata": {},
   "outputs": [
    {
     "data": {
      "text/plain": [
       "array([[1, 2],\n",
       "       [3, 4]])"
      ]
     },
     "execution_count": 6,
     "metadata": {},
     "output_type": "execute_result"
    }
   ],
   "source": [
    "np.array([1, 2, 3, 4, 5, 6]).reshape(3, 2)[:2]"
   ]
  },
  {
   "cell_type": "markdown",
   "id": "shared-sunrise",
   "metadata": {},
   "source": [
    "6. Calculate the inner product of [4, 5] and [7, 10]."
   ]
  },
  {
   "cell_type": "code",
   "execution_count": 7,
   "id": "conceptual-aaron",
   "metadata": {},
   "outputs": [
    {
     "ename": "SyntaxError",
     "evalue": "unexpected EOF while parsing (<ipython-input-7-b9714a952eaf>, line 1)",
     "output_type": "error",
     "traceback": [
      "\u001b[1;36m  File \u001b[1;32m\"<ipython-input-7-b9714a952eaf>\"\u001b[1;36m, line \u001b[1;32m1\u001b[0m\n\u001b[1;33m    np.array([4, 5]).dot(np.array([7, 10])\u001b[0m\n\u001b[1;37m                                          ^\u001b[0m\n\u001b[1;31mSyntaxError\u001b[0m\u001b[1;31m:\u001b[0m unexpected EOF while parsing\n"
     ]
    }
   ],
   "source": [
    "np.array([4, 5]).dot(np.array([7, 10])"
   ]
  },
  {
   "cell_type": "markdown",
   "id": "smooth-porcelain",
   "metadata": {},
   "source": [
    "7. Calculate the normalized vector perpendicular to `[1, 5, 3]` and `[8, 4, 2]`."
   ]
  },
  {
   "cell_type": "code",
   "execution_count": null,
   "id": "applied-special",
   "metadata": {},
   "outputs": [],
   "source": [
    "a = np.cross(np.array([1, 5, 3]), (np.array([8, 4, 2])))\n",
    "a = a / np.linalg.norm(a)\n",
    "a"
   ]
  },
  {
   "cell_type": "markdown",
   "id": "declared-november",
   "metadata": {},
   "source": [
    "8. Subtract `[1, 0, 3]` from each row of the array `[[0, 0, 0], [1, 2, 3], [4, 5, 6]]` using broadcasting."
   ]
  },
  {
   "cell_type": "code",
   "execution_count": null,
   "id": "clean-houston",
   "metadata": {},
   "outputs": [],
   "source": [
    "np.array([[0, 0, 0], [1, 2, 3], [4, 5, 6]]) - np.array([1, 0, 3])"
   ]
  },
  {
   "cell_type": "markdown",
   "id": "smoking-china",
   "metadata": {},
   "source": [
    "## Matplotlib"
   ]
  },
  {
   "cell_type": "code",
   "execution_count": null,
   "id": "beneficial-brass",
   "metadata": {},
   "outputs": [],
   "source": [
    "import numpy as np\n",
    "import matplotlib.pyplot as plt\n",
    "\n",
    "plt.style.use('seaborn')"
   ]
  },
  {
   "cell_type": "markdown",
   "id": "convenient-logan",
   "metadata": {},
   "source": [
    "**Note:** Solve the exercises using Matplotlib's plotting style"
   ]
  },
  {
   "cell_type": "markdown",
   "id": "illegal-manufacturer",
   "metadata": {},
   "source": [
    "1. Plot the sine and cossine waves between $x=0$ and $x=2\\pi$"
   ]
  },
  {
   "cell_type": "code",
   "execution_count": null,
   "id": "intensive-runner",
   "metadata": {},
   "outputs": [],
   "source": [
    "x = np.linspace(0, 2 * np.pi, 100)\n",
    "\n",
    "plt.plot(x, np.sin(x))\n",
    "plt.plot(x, np.cos(x));"
   ]
  },
  {
   "cell_type": "markdown",
   "id": "assigned-handle",
   "metadata": {},
   "source": [
    "2. Place markers at the start and end of both graphs."
   ]
  },
  {
   "cell_type": "code",
   "execution_count": null,
   "id": "handled-madonna",
   "metadata": {},
   "outputs": [],
   "source": [
    "plt.plot(x, np.sin(x), markevery=[0, -1], marker='o', label='Sin')\n",
    "plt.plot(x, np.cos(x), markevery=[0, -1], marker='o', label='Cos');"
   ]
  },
  {
   "cell_type": "markdown",
   "id": "infectious-daniel",
   "metadata": {},
   "source": [
    "3. Place markers at the points of intersection of both graphs."
   ]
  },
  {
   "cell_type": "code",
   "execution_count": null,
   "id": "partial-information",
   "metadata": {},
   "outputs": [],
   "source": [
    "plt.plot(x, np.sin(x), markevery=[0, -1], marker='o', label='Sin')\n",
    "plt.plot(x, np.cos(x), markevery=[0, -1], marker='o', label='Cos')\n",
    "plt.plot([np.pi / 4, 5 * np.pi / 4], [np.sqrt(2) / 2, -np.sqrt(2) / 2], ls='', marker='.', ms=10);"
   ]
  },
  {
   "cell_type": "markdown",
   "id": "upset-discretion",
   "metadata": {},
   "source": [
    "4. Give it an appropriate title"
   ]
  },
  {
   "cell_type": "code",
   "execution_count": null,
   "id": "inner-wrist",
   "metadata": {},
   "outputs": [],
   "source": [
    "plt.plot(x, np.sin(x), markevery=[0, -1], marker='o', label='Sin')\n",
    "plt.plot(x, np.cos(x), markevery=[0, -1], marker='o', label='Cos')\n",
    "plt.plot([np.pi / 4, 5 * np.pi / 4], [np.sqrt(2) / 2, -np.sqrt(2) / 2], ls='', marker='.', ms=10)\n",
    "\n",
    "plt.title('Intersection of Sine and Cosine waves');"
   ]
  },
  {
   "cell_type": "markdown",
   "id": "lasting-press",
   "metadata": {},
   "source": [
    "5. Give it appropriate labels."
   ]
  },
  {
   "cell_type": "code",
   "execution_count": null,
   "id": "falling-southeast",
   "metadata": {},
   "outputs": [],
   "source": [
    "plt.plot(x, np.sin(x), markevery=[0, -1], marker='o', label='Sin')\n",
    "plt.plot(x, np.cos(x), markevery=[0, -1], marker='o', label='Cos')\n",
    "plt.plot([np.pi / 4, 5 * np.pi / 4], [np.sqrt(2) / 2, -np.sqrt(2) / 2], ls='', marker='.', ms=10)\n",
    "\n",
    "plt.title('Intersection of Sine and Cosine waves')\n",
    "plt.xlabel('t (s)')\n",
    "plt.ylabel('Voltage (mV)');"
   ]
  },
  {
   "cell_type": "markdown",
   "id": "jewish-redhead",
   "metadata": {},
   "source": [
    "6. Add the legend."
   ]
  },
  {
   "cell_type": "code",
   "execution_count": null,
   "id": "labeled-bunny",
   "metadata": {},
   "outputs": [],
   "source": [
    "plt.plot(x, np.sin(x), markevery=[0, -1], marker='o', label='Sin')\n",
    "plt.plot(x, np.cos(x), markevery=[0, -1], marker='o', label='Cos')\n",
    "plt.plot([np.pi / 4, 5 * np.pi / 4], [np.sqrt(2) / 2, -np.sqrt(2) / 2], ls='', marker='.', ms=10)\n",
    "\n",
    "plt.title('Intersection of Sine and Cosine waves')\n",
    "plt.xlabel('t (s)')\n",
    "plt.ylabel('Voltage (mV)')\n",
    "plt.legend();"
   ]
  },
  {
   "cell_type": "markdown",
   "id": "reserved-guarantee",
   "metadata": {},
   "source": [
    "## SymPy"
   ]
  },
  {
   "cell_type": "code",
   "execution_count": 9,
   "id": "textile-matrix",
   "metadata": {},
   "outputs": [],
   "source": [
    "from sympy import *\n",
    "\n",
    "x, y = symbols(\"x y\")\n",
    "f, g = symbols('f g', cls=Function)"
   ]
  },
  {
   "cell_type": "markdown",
   "id": "atomic-intersection",
   "metadata": {},
   "source": [
    "1. Find 100 digits of $\\pi^{e}$"
   ]
  },
  {
   "cell_type": "code",
   "execution_count": 10,
   "id": "progressive-share",
   "metadata": {},
   "outputs": [
    {
     "data": {
      "text/latex": [
       "$\\displaystyle 22.45915771836104547342715220454373502758931513399669224920300255406692604039911791231851975272714303$"
      ],
      "text/plain": [
       "22.45915771836104547342715220454373502758931513399669224920300255406692604039911791231851975272714303"
      ]
     },
     "execution_count": 10,
     "metadata": {},
     "output_type": "execute_result"
    }
   ],
   "source": [
    "(pi ** E).evalf(100)"
   ]
  },
  {
   "cell_type": "markdown",
   "id": "amended-consortium",
   "metadata": {},
   "source": [
    "2. Expand $(x + y)^{2}(x - y)(x^{2} + y)$"
   ]
  },
  {
   "cell_type": "code",
   "execution_count": null,
   "id": "lasting-notebook",
   "metadata": {},
   "outputs": [],
   "source": [
    "((x + y) ** 2 * (x - y) + (x ** 2 + y)).expand()"
   ]
  },
  {
   "cell_type": "markdown",
   "id": "imported-aging",
   "metadata": {},
   "source": [
    "3. Simplify $\\frac{1}{x} + \\frac{x sin(x) - 1}{x^{2} - 1}$"
   ]
  },
  {
   "cell_type": "code",
   "execution_count": null,
   "id": "boring-namibia",
   "metadata": {},
   "outputs": [],
   "source": [
    "simplify((1 / x) + (x * sin(x) - 1) / (x ** 2 - 1))"
   ]
  },
  {
   "cell_type": "markdown",
   "id": "established-brighton",
   "metadata": {},
   "source": [
    "4. Find roots of $x^{4} - 4x^{3} + 2x^{2} - x$"
   ]
  },
  {
   "cell_type": "code",
   "execution_count": null,
   "id": "planned-habitat",
   "metadata": {},
   "outputs": [],
   "source": [
    "solve(x ** 4 - 4 * x ** 3 + 2 * x ** 2 - x)"
   ]
  },
  {
   "cell_type": "markdown",
   "id": "acceptable-listening",
   "metadata": {},
   "source": [
    "5. Solve the following equation system $x + y = 4$ and $x \\cdot y = 3$"
   ]
  },
  {
   "cell_type": "code",
   "execution_count": null,
   "id": "wicked-regard",
   "metadata": {},
   "outputs": [],
   "source": [
    "solve([x + y - 4, x * y - 3], [x, y])"
   ]
  },
  {
   "cell_type": "markdown",
   "id": "theoretical-progress",
   "metadata": {},
   "source": [
    "6. Calculate the left-sided limit of the function $\\frac{|x|}{x}$"
   ]
  },
  {
   "cell_type": "code",
   "execution_count": null,
   "id": "standing-steel",
   "metadata": {},
   "outputs": [],
   "source": [
    "limit(abs(x) / x, x, 0, dir='-')"
   ]
  },
  {
   "cell_type": "markdown",
   "id": "applicable-scott",
   "metadata": {},
   "source": [
    "7. Calculate the definite integral of the function $cos^{3}{x}$ between 0 and $\\frac{\\pi}{2}$"
   ]
  },
  {
   "cell_type": "code",
   "execution_count": null,
   "id": "finite-sperm",
   "metadata": {},
   "outputs": [],
   "source": [
    "integrate(cos(x) ** 3, (x, 0, pi / 2))"
   ]
  },
  {
   "cell_type": "markdown",
   "id": "renewable-values",
   "metadata": {},
   "source": [
    "8. Solve the differential equation $f''(x) + 9f(x) = 1$"
   ]
  },
  {
   "cell_type": "code",
   "execution_count": null,
   "id": "equal-vintage",
   "metadata": {},
   "outputs": [],
   "source": [
    "dsolve(f(x).diff(x, x) + 9 * f(x) - 1, f(x))"
   ]
  }
 ],
 "metadata": {
  "kernelspec": {
   "display_name": "Python 3",
   "language": "python",
   "name": "python3"
  },
  "language_info": {
   "codemirror_mode": {
    "name": "ipython",
    "version": 3
   },
   "file_extension": ".py",
   "mimetype": "text/x-python",
   "name": "python",
   "nbconvert_exporter": "python",
   "pygments_lexer": "ipython3",
   "version": "3.8.1"
  }
 },
 "nbformat": 4,
 "nbformat_minor": 5
}
